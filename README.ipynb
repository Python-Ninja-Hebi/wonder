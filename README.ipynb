{
 "cells": [
  {
   "cell_type": "markdown",
   "metadata": {},
   "source": [
    "# wonder - Python Game Engine"
   ]
  },
  {
   "cell_type": "markdown",
   "metadata": {},
   "source": [
    "## Whenever I have played a great computer game for the first time, <br>I was **wonder**ing how they do it. Then I tried to recreate it."
   ]
  },
  {
   "cell_type": "markdown",
   "metadata": {},
   "source": [
    "<img src=\"img/wonder_logo.png\" width=\"128\" align=\"left\"><br><br><br><br><br><br>"
   ]
  },
  {
   "cell_type": "markdown",
   "metadata": {},
   "source": [
    "**Pygame** (https://www.pygame.org) is a great library for making your own game with python. \n",
    "\n",
    "When starting a new game from scratch you always need to build the basic structure. The game engine `wonder` gives you a collection of components you can use with **Pygame**.\n",
    "\n",
    "The game engine `wonder` is only a frame for your programming, so you have to know Pygame for creating new games.\n",
    "\n",
    "Many ideas in `wonder` are inspired by *Unity 3D* (https://unity.com)\n",
    "\n",
    "If you are looking for more simple to use Pygame frameworks:\n",
    "\n",
    "* **pygame zero** https://github.com/lordmauve/pgzero\n",
    "* **python arcade library** https://arcade.academy\n",
    "\n",
    "The game engine `wonder` includes Box2D as physics engine.\n",
    "\n",
    "Goals:\n",
    "   \n",
    "* explicit is better then implicit - wonder is only the frame for your game\n",
    "* Component based - more components, less classes\n",
    "* Inspired by Unity 3D - Similar names for object types and methods\n",
    "* Physics engine included\n"
   ]
  },
  {
   "cell_type": "markdown",
   "metadata": {},
   "source": [
    "<img src=\"img/ground_parts.png\" width=\"256\" align=\"left\"><br><br><br><br><br><br>"
   ]
  },
  {
   "cell_type": "markdown",
   "metadata": {},
   "source": [
    "\n",
    "If you like it, use it. If you have some suggestions, tell me (hebi@ninja-python.com).\n",
    "\n",
    "All game assets that I use in examples are free and from https://www.kenney.nl. Thank you."
   ]
  },
  {
   "cell_type": "markdown",
   "metadata": {},
   "source": [
    "## acclaimer"
   ]
  },
  {
   "cell_type": "markdown",
   "metadata": {},
   "source": [
    "You can use this alpha version 0.1.0 of the game engine `wonder` but there will be some changes in the future."
   ]
  },
  {
   "cell_type": "markdown",
   "metadata": {},
   "source": [
    "## installing wonder game engine"
   ]
  },
  {
   "cell_type": "markdown",
   "metadata": {},
   "source": [
    "Install with pip"
   ]
  },
  {
   "cell_type": "code",
   "execution_count": null,
   "metadata": {},
   "outputs": [],
   "source": [
    "pip install wonder"
   ]
  },
  {
   "cell_type": "markdown",
   "metadata": {},
   "source": [
    "If that does not work on your platform you can install the different components separately"
   ]
  },
  {
   "cell_type": "markdown",
   "metadata": {},
   "source": [
    "Install **pygame**"
   ]
  },
  {
   "cell_type": "code",
   "execution_count": null,
   "metadata": {},
   "outputs": [],
   "source": [
    "pip install pygame"
   ]
  },
  {
   "cell_type": "markdown",
   "metadata": {},
   "source": [
    "Install physics engine **Box2D**"
   ]
  },
  {
   "cell_type": "code",
   "execution_count": null,
   "metadata": {},
   "outputs": [],
   "source": [
    "pip install box2d"
   ]
  },
  {
   "cell_type": "markdown",
   "metadata": {},
   "source": [
    "For installing **wonder** simply copy file **wonder.py** to your directory."
   ]
  },
  {
   "cell_type": "code",
   "execution_count": null,
   "metadata": {},
   "outputs": [],
   "source": [
    "cp wonder.py"
   ]
  },
  {
   "cell_type": "markdown",
   "metadata": {},
   "source": [
    "## wonder game engine - making a new game "
   ]
  },
  {
   "cell_type": "markdown",
   "metadata": {},
   "source": [
    "### main game"
   ]
  },
  {
   "cell_type": "code",
   "execution_count": null,
   "metadata": {},
   "outputs": [],
   "source": []
  },
  {
   "cell_type": "markdown",
   "metadata": {},
   "source": [
    "### level 1 - scene"
   ]
  },
  {
   "cell_type": "markdown",
   "metadata": {},
   "source": [
    "A scene contains of gameobject"
   ]
  },
  {
   "cell_type": "markdown",
   "metadata": {},
   "source": [
    "create  \n",
    "\n",
    "add gameobject"
   ]
  },
  {
   "cell_type": "markdown",
   "metadata": {},
   "source": [
    "### gameobject"
   ]
  },
  {
   "cell_type": "markdown",
   "metadata": {},
   "source": [
    "first gameobject Racket   \n",
    "add SpriteRender Component  \n",
    "fixed_rotation"
   ]
  },
  {
   "cell_type": "code",
   "execution_count": null,
   "metadata": {},
   "outputs": [],
   "source": []
  },
  {
   "cell_type": "markdown",
   "metadata": {},
   "source": [
    "### create border"
   ]
  },
  {
   "cell_type": "markdown",
   "metadata": {},
   "source": [
    "component rigidbody static"
   ]
  },
  {
   "cell_type": "code",
   "execution_count": null,
   "metadata": {},
   "outputs": [],
   "source": []
  },
  {
   "cell_type": "markdown",
   "metadata": {},
   "source": [
    "### create blocks"
   ]
  },
  {
   "cell_type": "markdown",
   "metadata": {},
   "source": [
    "#### move racket"
   ]
  },
  {
   "cell_type": "markdown",
   "metadata": {},
   "source": [
    "#### debug"
   ]
  },
  {
   "cell_type": "markdown",
   "metadata": {},
   "source": [
    "### create ball"
   ]
  },
  {
   "cell_type": "markdown",
   "metadata": {},
   "source": [
    "restitution   \n",
    "component rigidbody  \n",
    "component circlecollider"
   ]
  },
  {
   "cell_type": "markdown",
   "metadata": {},
   "source": [
    "#### move ball"
   ]
  },
  {
   "cell_type": "code",
   "execution_count": null,
   "metadata": {},
   "outputs": [],
   "source": []
  },
  {
   "cell_type": "markdown",
   "metadata": {},
   "source": [
    "### create block"
   ]
  },
  {
   "cell_type": "markdown",
   "metadata": {},
   "source": [
    "component rigidbody  \n",
    "component boxcollider"
   ]
  },
  {
   "cell_type": "markdown",
   "metadata": {},
   "source": [
    "### create scoremanager"
   ]
  },
  {
   "cell_type": "markdown",
   "metadata": {},
   "source": [
    "get_object   \n",
    "start_tag  \n",
    "draw_text "
   ]
  },
  {
   "cell_type": "markdown",
   "metadata": {},
   "source": [
    "### restrart"
   ]
  },
  {
   "cell_type": "markdown",
   "metadata": {},
   "source": [
    "#### 0 ball level 1"
   ]
  },
  {
   "cell_type": "markdown",
   "metadata": {},
   "source": [
    "### next level"
   ]
  },
  {
   "cell_type": "markdown",
   "metadata": {},
   "source": [
    "## wonder game engine -  behind the curtain"
   ]
  },
  {
   "cell_type": "markdown",
   "metadata": {},
   "source": [
    "### central engine and the systems"
   ]
  },
  {
   "cell_type": "code",
   "execution_count": null,
   "metadata": {},
   "outputs": [],
   "source": []
  },
  {
   "cell_type": "markdown",
   "metadata": {},
   "source": [
    "#### pattern singleton"
   ]
  },
  {
   "cell_type": "code",
   "execution_count": null,
   "metadata": {},
   "outputs": [],
   "source": []
  },
  {
   "cell_type": "markdown",
   "metadata": {},
   "source": [
    "#### game loop update draw"
   ]
  },
  {
   "cell_type": "markdown",
   "metadata": {},
   "source": [
    "event  \n",
    "update  \n",
    "late_update  \n",
    "draw  "
   ]
  },
  {
   "cell_type": "markdown",
   "metadata": {},
   "source": [
    "#### timing"
   ]
  },
  {
   "cell_type": "code",
   "execution_count": null,
   "metadata": {},
   "outputs": [],
   "source": []
  },
  {
   "cell_type": "markdown",
   "metadata": {},
   "source": [
    "#### event system"
   ]
  },
  {
   "cell_type": "markdown",
   "metadata": {},
   "source": [
    "on_load_scene"
   ]
  },
  {
   "cell_type": "markdown",
   "metadata": {},
   "source": [
    "observer pattern"
   ]
  },
  {
   "cell_type": "markdown",
   "metadata": {},
   "source": [
    "#### get_object"
   ]
  },
  {
   "cell_type": "markdown",
   "metadata": {},
   "source": [
    "#### GetObject"
   ]
  },
  {
   "cell_type": "markdown",
   "metadata": {},
   "source": [
    "### gameobject"
   ]
  },
  {
   "cell_type": "markdown",
   "metadata": {},
   "source": [
    "#### mixin"
   ]
  },
  {
   "cell_type": "code",
   "execution_count": null,
   "metadata": {},
   "outputs": [],
   "source": []
  },
  {
   "cell_type": "markdown",
   "metadata": {},
   "source": [
    "#### transform"
   ]
  },
  {
   "cell_type": "code",
   "execution_count": null,
   "metadata": {},
   "outputs": [],
   "source": []
  },
  {
   "cell_type": "markdown",
   "metadata": {},
   "source": [
    "#### components"
   ]
  },
  {
   "cell_type": "markdown",
   "metadata": {},
   "source": [
    "SpriteRenderer"
   ]
  },
  {
   "cell_type": "markdown",
   "metadata": {},
   "source": [
    "## scene"
   ]
  },
  {
   "cell_type": "markdown",
   "metadata": {},
   "source": [
    "### layered container for gameobject"
   ]
  },
  {
   "cell_type": "code",
   "execution_count": null,
   "metadata": {},
   "outputs": [],
   "source": []
  },
  {
   "cell_type": "markdown",
   "metadata": {},
   "source": [
    "### render system"
   ]
  },
  {
   "cell_type": "markdown",
   "metadata": {},
   "source": [
    "layered observer"
   ]
  },
  {
   "cell_type": "markdown",
   "metadata": {},
   "source": [
    "#### Component SpriteRenderer"
   ]
  },
  {
   "cell_type": "markdown",
   "metadata": {},
   "source": [
    "Surface  \n",
    "load_from_file\n",
    "\n",
    "consists of surface and rect"
   ]
  },
  {
   "cell_type": "markdown",
   "metadata": {},
   "source": [
    "### change current scene"
   ]
  },
  {
   "cell_type": "markdown",
   "metadata": {},
   "source": [
    "#### add or remove gameobject"
   ]
  },
  {
   "cell_type": "markdown",
   "metadata": {},
   "source": [
    "#### add or remove component"
   ]
  },
  {
   "cell_type": "code",
   "execution_count": null,
   "metadata": {},
   "outputs": [],
   "source": []
  },
  {
   "cell_type": "markdown",
   "metadata": {},
   "source": [
    "## physic and collision system"
   ]
  },
  {
   "cell_type": "markdown",
   "metadata": {},
   "source": [
    "using Box2D https://box2d.org/documentation/md__d_1__git_hub_box2d_docs_dynamics.html  \n",
    "python https://github.com/pybox2d/pybox2d"
   ]
  },
  {
   "cell_type": "markdown",
   "metadata": {},
   "source": [
    "### bodies"
   ]
  },
  {
   "cell_type": "markdown",
   "metadata": {},
   "source": [
    "Component Rigidbody is b2Body"
   ]
  },
  {
   "cell_type": "markdown",
   "metadata": {},
   "source": [
    "#### synchornize transform"
   ]
  },
  {
   "cell_type": "code",
   "execution_count": null,
   "metadata": {},
   "outputs": [],
   "source": []
  },
  {
   "cell_type": "markdown",
   "metadata": {},
   "source": [
    "#### body types"
   ]
  },
  {
   "cell_type": "markdown",
   "metadata": {},
   "source": [
    "STATIC_BODY  \n",
    "    physic system does not simulate this body  \n",
    "    body has zero velocity  \n",
    "    body does not collide with other static or kinematic bodies  \n",
    "\n",
    "KINEMATIC_BODY  \n",
    "    physic system simulates this body  \n",
    "    body does not respond to forces  \n",
    "    program can move body normally by setting velocity  \n",
    "    body does not collide with other static or kinematic bodies  \n",
    "\n",
    "DYNAMIC_BODY  \n",
    "    physic system simulates this body  \n",
    "    body collides with other bodies  "
   ]
  },
  {
   "cell_type": "markdown",
   "metadata": {},
   "source": [
    "#### fixtures"
   ]
  },
  {
   "cell_type": "markdown",
   "metadata": {},
   "source": [
    "component collider is b2Fixture"
   ]
  },
  {
   "cell_type": "markdown",
   "metadata": {},
   "source": [
    "boxcollider"
   ]
  },
  {
   "cell_type": "markdown",
   "metadata": {},
   "source": [
    "#### debug"
   ]
  },
  {
   "cell_type": "markdown",
   "metadata": {},
   "source": [
    "### joints"
   ]
  },
  {
   "cell_type": "markdown",
   "metadata": {},
   "source": [
    "#### distance joints"
   ]
  },
  {
   "cell_type": "markdown",
   "metadata": {},
   "source": [
    "get_gameobject"
   ]
  },
  {
   "cell_type": "markdown",
   "metadata": {},
   "source": [
    "## animator component"
   ]
  },
  {
   "cell_type": "markdown",
   "metadata": {},
   "source": [
    "animator has states  \n",
    "state has clips"
   ]
  },
  {
   "cell_type": "code",
   "execution_count": null,
   "metadata": {},
   "outputs": [],
   "source": []
  },
  {
   "cell_type": "markdown",
   "metadata": {},
   "source": [
    "## particle system"
   ]
  },
  {
   "cell_type": "code",
   "execution_count": null,
   "metadata": {},
   "outputs": [],
   "source": []
  },
  {
   "cell_type": "markdown",
   "metadata": {},
   "source": [
    "## tile system"
   ]
  },
  {
   "cell_type": "markdown",
   "metadata": {},
   "source": [
    "A **TileMap** is an GameObject and consists of *width* x *height* tiles.  \n",
    "Every tile has a width of *tile_width* pixels and a height of *tile_height*. "
   ]
  },
  {
   "cell_type": "code",
   "execution_count": null,
   "metadata": {},
   "outputs": [],
   "source": [
    "GRID_WIDTH = 5\n",
    "GRID_HEIGHT = 7\n",
    "\n",
    "CELL_WIDTH = 64\n",
    "CELL_HEIGHT = 64\n",
    "\n",
    "tilemap = TileMap(GRID_WIDTH,GRID_HEIGHT,CELL_WIDTH,CELL_HEIGHT)"
   ]
  },
  {
   "cell_type": "markdown",
   "metadata": {},
   "source": [
    "The tilemap.transform.position is always the top left position of the map. With changing position you can move the complete map."
   ]
  },
  {
   "cell_type": "markdown",
   "metadata": {},
   "source": [
    "A TileMap has a **palette** with different **TilePaletteItem** you can use in a tilemap.  \n",
    "A **TilePaletteItem** has an unique **id**, an unique **tile_type** and an **image**."
   ]
  },
  {
   "cell_type": "code",
   "execution_count": null,
   "metadata": {},
   "outputs": [],
   "source": [
    "tilemap.palette.add(TilePaletteItem(0, tile_type='ground', image=pygame.image.load('res_tile/ground.png')))\n",
    "tilemap.palette.add(TilePaletteItem(1, tile_type='wall', image=pygame.image.load('res_tile/wall.png')))\n",
    ".."
   ]
  },
  {
   "cell_type": "markdown",
   "metadata": {},
   "source": [
    "To create a tile from the palette at a specific position in the tile map use the function **create_tile_from_palette**(*position_x*,*position_y*,*tile_type* or *id*)"
   ]
  },
  {
   "cell_type": "code",
   "execution_count": null,
   "metadata": {},
   "outputs": [],
   "source": [
    "tilemap.create_tile_from_palette(0,0,'ground')"
   ]
  },
  {
   "cell_type": "markdown",
   "metadata": {},
   "source": [
    "<img src=\"img/grid_system_example_1.png\" width=\"320\" align=\"left\"><br><br><br><br><br><br>"
   ]
  },
  {
   "cell_type": "markdown",
   "metadata": {},
   "source": [
    "You can create a complete tile map with **set_all_tiles** "
   ]
  },
  {
   "cell_type": "code",
   "execution_count": null,
   "metadata": {},
   "outputs": [],
   "source": [
    "tilemap.set_all_tiles([[1,1,1,1,1],\n",
    "                       [1,0,0,0,1],\n",
    "                       [1,0,0,0,1],\n",
    "                       [1,0,0,0,1],\n",
    "                       [1,0,0,0,1],\n",
    "                       [1,0,0,0,1],\n",
    "                       [1,1,1,1,1]])"
   ]
  },
  {
   "cell_type": "markdown",
   "metadata": {},
   "source": [
    "<img src=\"img/grid_system_example_2.png\" width=\"320\" align=\"left\"><br><br><br><br><br><br>"
   ]
  },
  {
   "cell_type": "markdown",
   "metadata": {},
   "source": [
    "A class **TileMap** can have more than one layer of tiles. Negative values are None."
   ]
  },
  {
   "cell_type": "code",
   "execution_count": null,
   "metadata": {},
   "outputs": [],
   "source": [
    "new_layer = tilemap.add_layer()\n",
    "\n",
    "tilemap.set_all_tiles([[-1,-1,-1,-1,-1],\n",
    "                       [-1, 4,-1,-1,-1],\n",
    "                      ..\n",
    "                       [-1,-1,-1, 2,-1],\n",
    "                       [-1,-1,-1,-1,-1]],tile_layer=new_layer)"
   ]
  },
  {
   "cell_type": "markdown",
   "metadata": {},
   "source": [
    "<img src=\"img/grid_system_example_3.png\" width=\"320\" align=\"left\"><br><br><br><br><br><br>"
   ]
  },
  {
   "cell_type": "markdown",
   "metadata": {},
   "source": [
    "To see something tilemap as gameobject needs rendering component"
   ]
  },
  {
   "cell_type": "code",
   "execution_count": null,
   "metadata": {},
   "outputs": [],
   "source": [
    "tilemap.add(TileMapRenderer(tilemap))"
   ]
  },
  {
   "cell_type": "markdown",
   "metadata": {},
   "source": [
    "With class **TileController** a tile can react"
   ]
  },
  {
   "cell_type": "code",
   "execution_count": null,
   "metadata": {},
   "outputs": [],
   "source": [
    "tilemap.palette.add(TilePaletteItem(4, tile_type='player', image=pygame.image.load('res_tile/player_01.png'),\n",
    "                                    tile_controller_class=Player))"
   ]
  },
  {
   "cell_type": "markdown",
   "metadata": {},
   "source": [
    "Class **Player** is in gameloop update cycle"
   ]
  },
  {
   "cell_type": "code",
   "execution_count": null,
   "metadata": {},
   "outputs": [],
   "source": [
    "class Player(TileController):\n",
    "    def __init__(self,tile:Tile):\n",
    "        super().__init__(tile)\n",
    "        ..\n",
    "        \n",
    "    def update(self, delta_time: float):\n",
    "        .."
   ]
  },
  {
   "cell_type": "markdown",
   "metadata": {},
   "source": [
    "Class **TileController** has some convinient methods.\n",
    "\n",
    "`get_position()` .. current tile position  \n",
    "`tile = self.get_tile(pos)` .. get tile at postion  \n",
    "`tile.has_type('ground')` .. has tile the that type  \n",
    "`set_position(new_pos)`.. change position of tile  "
   ]
  },
  {
   "cell_type": "code",
   "execution_count": null,
   "metadata": {},
   "outputs": [],
   "source": []
  },
  {
   "cell_type": "markdown",
   "metadata": {},
   "source": [
    "## Changelog"
   ]
  },
  {
   "cell_type": "markdown",
   "metadata": {},
   "source": [
    "|Version       |                                                                                          |\n",
    "|--------------|------------------------------------------------------------------------------------------|\n",
    "|  0.1.0       | first version |"
   ]
  },
  {
   "cell_type": "code",
   "execution_count": null,
   "metadata": {},
   "outputs": [],
   "source": []
  }
 ],
 "metadata": {
  "kernelspec": {
   "display_name": "Python 3 (ipykernel)",
   "language": "python",
   "name": "python3"
  },
  "language_info": {
   "codemirror_mode": {
    "name": "ipython",
    "version": 3
   },
   "file_extension": ".py",
   "mimetype": "text/x-python",
   "name": "python",
   "nbconvert_exporter": "python",
   "pygments_lexer": "ipython3",
   "version": "3.8.12"
  }
 },
 "nbformat": 4,
 "nbformat_minor": 4
}
